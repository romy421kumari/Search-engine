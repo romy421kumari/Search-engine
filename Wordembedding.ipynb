{
 "cells": [
  {
   "cell_type": "code",
   "execution_count": 1,
   "metadata": {},
   "outputs": [
    {
     "name": "stdout",
     "output_type": "stream",
     "text": [
      "Overwriting test.txt\n"
     ]
    }
   ],
   "source": [
    "%%writefile test.txt\n",
    "King is the emperor queen.\n",
    "Queen is wife of king and king is the husband of queen.\n",
    "tea or coffee what would you like of prefer.\n",
    "prefer or like what is easy.\n",
    "king and queen are husband and wife.\n",
    "kings responsibility id to love the queen.\n"
   ]
  },
  {
   "cell_type": "code",
   "execution_count": 2,
   "metadata": {},
   "outputs": [
    {
     "name": "stdout",
     "output_type": "stream",
     "text": [
      "[nltk_data] Downloading package stopwords to\n",
      "[nltk_data]     C:\\Users\\rameshwaram\\AppData\\Roaming\\nltk_data...\n",
      "[nltk_data]   Package stopwords is already up-to-date!\n"
     ]
    },
    {
     "data": {
      "text/plain": [
       "True"
      ]
     },
     "execution_count": 2,
     "metadata": {},
     "output_type": "execute_result"
    }
   ],
   "source": [
    "import gensim\n",
    "from gensim.models import Word2Vec \n",
    "from nltk.tokenize import sent_tokenize, word_tokenize \n",
    "import nltk\n",
    "from nltk.corpus import stopwords\n",
    "nltk.download('stopwords')"
   ]
  },
  {
   "cell_type": "code",
   "execution_count": 3,
   "metadata": {},
   "outputs": [],
   "source": [
    "def applywv(filename,word):\n",
    "    f=open(filename, encoding='utf-8')\n",
    "    read=sent_tokenize(f.read())\n",
    "    sentence=[word_tokenize(i) for i in read]\n",
    "    punc = '''!()“-[]{};:'\"\\, <>./?@#$%^&*_~'''\n",
    "    for i in range(len(sentence)):\n",
    "        sentence[i]=[word.lower() for word in sentence[i] if word.lower() not in stopwords.words()]\n",
    "       \n",
    "    for i in range(len(sentence)):\n",
    "        sentence[i]=[word for word in sentence[i] if word not in punc]\n",
    "   \n",
    "    vector=Word2Vec(sentence, min_count=1,size=4)\n",
    "    similar= vector.wv.most_similar(word)\n",
    "    arr=[]\n",
    "    \n",
    "    for i in range(10):\n",
    "        arr.append(similar[i][0])\n",
    "        \n",
    "    return arr\n",
    "        \n"
   ]
  },
  {
   "cell_type": "code",
   "execution_count": 4,
   "metadata": {},
   "outputs": [
    {
     "name": "stderr",
     "output_type": "stream",
     "text": [
      "[10/Jul/2020:00:55:34] ENGINE Listening for SIGTERM.\n",
      "[10/Jul/2020:00:55:34] ENGINE Bus STARTING\n",
      "CherryPy Checker:\n",
      "The Application mounted at '' has an empty config.\n",
      "\n",
      "[10/Jul/2020:00:55:34] ENGINE Set handler for console events.\n",
      "[10/Jul/2020:00:55:34] ENGINE Started monitor thread 'Autoreloader'.\n",
      "[10/Jul/2020:00:55:34] ENGINE Serving on http://127.0.0.1:8087\n",
      "[10/Jul/2020:00:55:34] ENGINE Bus STARTED\n"
     ]
    },
    {
     "name": "stdout",
     "output_type": "stream",
     "text": [
      "127.0.0.1 - - [10/Jul/2020:00:55:39] \"GET / HTTP/1.1\" 200 1126 \"http://localhost:8888/notebooks/Wordembedding.ipynb\" \"Mozilla/5.0 (Windows NT 10.0; Win64; x64) AppleWebKit/537.36 (KHTML, like Gecko) Chrome/83.0.4103.116 Safari/537.36\"\n"
     ]
    },
    {
     "name": "stderr",
     "output_type": "stream",
     "text": [
      "C:\\Users\\rameshwaram\\Anaconda3\\lib\\site-packages\\gensim\\models\\base_any2vec.py:743: UserWarning: C extension not loaded, training will be slow. Install a C compiler and reinstall gensim for fast training.\n",
      "  \"C extension not loaded, training will be slow. \"\n"
     ]
    },
    {
     "name": "stdout",
     "output_type": "stream",
     "text": [
      "127.0.0.1 - - [10/Jul/2020:00:56:32] \"GET /store?myFile=license_agreement.txt&search=music HTTP/1.1\" 200 445 \"http://127.0.0.1:8087/\" \"Mozilla/5.0 (Windows NT 10.0; Win64; x64) AppleWebKit/537.36 (KHTML, like Gecko) Chrome/83.0.4103.116 Safari/537.36\"\n"
     ]
    },
    {
     "name": "stderr",
     "output_type": "stream",
     "text": [
      "[10/Jul/2020:00:56:44] ENGINE Bus STOPPING\n",
      "[10/Jul/2020:00:56:44] ENGINE HTTP Server cherrypy._cpwsgi_server.CPWSGIServer(('127.0.0.1', 8087)) shut down\n",
      "[10/Jul/2020:00:56:44] ENGINE Removed handler for console events.\n",
      "[10/Jul/2020:00:56:44] ENGINE Stopped thread 'Autoreloader'.\n",
      "[10/Jul/2020:00:56:44] ENGINE Bus STOPPED\n",
      "[10/Jul/2020:00:56:44] ENGINE Bus EXITING\n",
      "[10/Jul/2020:00:56:44] ENGINE Bus EXITED\n"
     ]
    },
    {
     "name": "stdout",
     "output_type": "stream",
     "text": [
      "127.0.0.1 - - [10/Jul/2020:00:56:44] \"GET /shutdown HTTP/1.1\" 200 - \"http://127.0.0.1:8087/store?myFile=license_agreement.txt&search=music\" \"Mozilla/5.0 (Windows NT 10.0; Win64; x64) AppleWebKit/537.36 (KHTML, like Gecko) Chrome/83.0.4103.116 Safari/537.36\"\n"
     ]
    },
    {
     "name": "stderr",
     "output_type": "stream",
     "text": [
      "[10/Jul/2020:00:56:44] ENGINE Waiting for child threads to terminate...\n"
     ]
    }
   ],
   "source": [
    "import random\n",
    "import string\n",
    "import cherrypy\n",
    "import nltk\n",
    "import time\n",
    "from cherrypy import tools\n",
    "\n",
    "\n",
    "class Root(object):\n",
    "   \n",
    "    @cherrypy.expose\n",
    "    def index(self):\n",
    "        return \"\"\"<html>\n",
    "<head>\n",
    "  <style>\n",
    "    .container{\n",
    "      height: 300px;\n",
    "      width: 600px;\n",
    "      background-color: maroon;\n",
    "      margin-top: 12%;\n",
    "      margin-left: 25%;\n",
    "      color: white;\n",
    "    }\n",
    "    .container h2{\n",
    "      font-size: 40px;\n",
    "      text-align: center;  \n",
    "      \n",
    "    }\n",
    "    .off{\n",
    "      font-size: 25px;\n",
    "      margin-left: 23%;\n",
    "      color: yellow;\n",
    "      background-color: ;\n",
    "    }\n",
    "    .on{\n",
    "      font-size: 25px;\n",
    "      border-top-right-radius: 25px;\n",
    "      border-top-left-radius: 25px;\n",
    "      border-bottom-left-radius: 25px;\n",
    "      border-bottom-right-radius: 25px;\n",
    "      margin-top: 20px;   }\n",
    "  </style>\n",
    "  </head>\n",
    "<body>\n",
    "\n",
    "  <div class=\"container\">  \n",
    "    <h2><u><i>Upload a file</i></u></h2>\n",
    "    <form action=\"store\" id=\"form\" method=\"GET\">\n",
    "    <input class=\"off\" type=\"file\" name=\"myFile\" /><br />\n",
    "    <input style=\"margin-left: 50px; height: 40px; width: 500px;\" class=\"on\" type=\"text\" name=\"search\" placeholder=\"Enter the query.............................................\"><br>\n",
    "    <input style=\"margin-left: 250px;\" class=\"on\" id=\" submit\" type=\"submit\"/></div>\n",
    "  </div>    \n",
    "    </form>\n",
    "  </div>\n",
    "            \n",
    "</body>\n",
    "</html>\"\"\"\n",
    "   \n",
    "    \n",
    "    @cherrypy.expose\n",
    "    def store(self,myFile, search):\n",
    "        a=str(applywv(myFile,search))\n",
    "        out=\"\"\"<html>\n",
    "        <body>\n",
    "        \n",
    "        <p style=\"color:brown; font-size: 30px;\"><u> Searching for :  </u> %s</p><br><br>\n",
    "       \n",
    "        \n",
    "        <p style=\"color:blue; font-size: 30px;\"> May be interested in : %s</p>\n",
    "        \n",
    "        \n",
    "        <a id=\"shutdown\"; href=\"./shutdown\">Shutdown Server</a>\n",
    "        </body>\n",
    "        </html>\n",
    "        \n",
    "        \"\"\"\n",
    "        return out % (search, a)\n",
    "  \n",
    "    \n",
    "    @cherrypy.expose\n",
    "    def shutdown(self):\n",
    "        cherrypy.engine.exit()\n",
    "\n",
    "if __name__==\"__main__\":\n",
    "    cherrypy.config.update({'server.socket_port': 8087})\n",
    "    \n",
    "    cherrypy.quickstart(Root())\n"
   ]
  }
 ],
 "metadata": {
  "kernelspec": {
   "display_name": "Python 3",
   "language": "python",
   "name": "python3"
  },
  "language_info": {
   "codemirror_mode": {
    "name": "ipython",
    "version": 3
   },
   "file_extension": ".py",
   "mimetype": "text/x-python",
   "name": "python",
   "nbconvert_exporter": "python",
   "pygments_lexer": "ipython3",
   "version": "3.6.5"
  }
 },
 "nbformat": 4,
 "nbformat_minor": 2
}
