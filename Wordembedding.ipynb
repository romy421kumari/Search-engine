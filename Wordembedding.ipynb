{
 "cells": [
  {
   "cell_type": "code",
   "execution_count": 2,
   "metadata": {},
   "outputs": [
    {
     "name": "stdout",
     "output_type": "stream",
     "text": [
      "Overwriting test.txt\n"
     ]
    }
   ],
   "source": [
    "%%writefile test.txt\n",
    "King is the emperor queen.\n",
    "Queen is wife of king and king is the husband of queen.\n",
    "tea or coffee what would you like of prefer.\n",
    "prefer or like what is easy.\n",
    "king and queen are husband and wife.\n",
    "kings responsibility id to love the queen.\n"
   ]
  },
  {
   "cell_type": "code",
   "execution_count": 3,
   "metadata": {},
   "outputs": [
    {
     "name": "stdout",
     "output_type": "stream",
     "text": [
      "[nltk_data] Downloading package stopwords to\n",
      "[nltk_data]     C:\\Users\\rameshwaram\\AppData\\Roaming\\nltk_data...\n",
      "[nltk_data]   Package stopwords is already up-to-date!\n"
     ]
    },
    {
     "data": {
      "text/plain": [
       "True"
      ]
     },
     "execution_count": 3,
     "metadata": {},
     "output_type": "execute_result"
    }
   ],
   "source": [
    "import gensim\n",
    "from gensim.models import Word2Vec \n",
    "from nltk.tokenize import sent_tokenize, word_tokenize \n",
    "import nltk\n",
    "from nltk.corpus import stopwords\n",
    "nltk.download('stopwords')"
   ]
  },
  {
   "cell_type": "code",
   "execution_count": 4,
   "metadata": {},
   "outputs": [],
   "source": [
    "def applywv(file,word):\n",
    "    f=open(file)\n",
    "    read=sent_tokenize(f.read())\n",
    "    sentence=[word_tokenize(i) for i in read]\n",
    "    for i in range(len(sentence)):\n",
    "        sentence[i]=[word for word in sentence[i] if word not in stopwords.words('english')]\n",
    "    vector=Word2Vec(sentence, min_count=1,size=2)\n",
    "    similar= vector.wv.most_similar(word)\n",
    "    arr=[]\n",
    "    \n",
    "    for i in range(10):\n",
    "        arr.append(similar[i][0])\n",
    "        \n",
    "    return arr\n",
    "        \n"
   ]
  },
  {
   "cell_type": "code",
   "execution_count": 7,
   "metadata": {},
   "outputs": [
    {
     "name": "stderr",
     "output_type": "stream",
     "text": [
      "C:\\Users\\rameshwaram\\Anaconda3\\lib\\site-packages\\gensim\\models\\base_any2vec.py:743: UserWarning: C extension not loaded, training will be slow. Install a C compiler and reinstall gensim for fast training.\n",
      "  \"C extension not loaded, training will be slow. \"\n"
     ]
    },
    {
     "data": {
      "text/plain": [
       "['solely',\n",
       " 'singer',\n",
       " 'music',\n",
       " 'vocal',\n",
       " 'texture',\n",
       " 'glossary',\n",
       " 'activities',\n",
       " '20th',\n",
       " 'composer',\n",
       " ')']"
      ]
     },
     "execution_count": 7,
     "metadata": {},
     "output_type": "execute_result"
    }
   ],
   "source": [
    "applywv('license_agreement.txt','art')"
   ]
  },
  {
   "cell_type": "markdown",
   "metadata": {},
   "source": [
    "improvement neended remove punctuation, convert to lowercase"
   ]
  },
  {
   "cell_type": "code",
   "execution_count": null,
   "metadata": {},
   "outputs": [],
   "source": []
  }
 ],
 "metadata": {
  "kernelspec": {
   "display_name": "Python 3",
   "language": "python",
   "name": "python3"
  },
  "language_info": {
   "codemirror_mode": {
    "name": "ipython",
    "version": 3
   },
   "file_extension": ".py",
   "mimetype": "text/x-python",
   "name": "python",
   "nbconvert_exporter": "python",
   "pygments_lexer": "ipython3",
   "version": "3.6.5"
  }
 },
 "nbformat": 4,
 "nbformat_minor": 2
}
