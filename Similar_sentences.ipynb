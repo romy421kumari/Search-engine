{
 "cells": [
  {
   "cell_type": "markdown",
   "metadata": {},
   "source": [
    "## Similar sentence like agglomerative clustering"
   ]
  },
  {
   "cell_type": "code",
   "execution_count": 15,
   "metadata": {},
   "outputs": [],
   "source": [
    "from nltk.corpus import stopwords \n",
    "from nltk.tokenize import word_tokenize ,sent_tokenize"
   ]
  },
  {
   "cell_type": "code",
   "execution_count": 16,
   "metadata": {},
   "outputs": [
    {
     "name": "stdout",
     "output_type": "stream",
     "text": [
      "Overwriting new.txt\n"
     ]
    }
   ],
   "source": [
    "%%writefile new.txt\n",
    "I love horror movies.\n",
    "Lights out is a horror movie.\n",
    "I love mangoes.\n",
    "I love romantic movies.\n",
    "Music is my passion.\n",
    "One should never left their passion and always love movies."
   ]
  },
  {
   "cell_type": "code",
   "execution_count": 17,
   "metadata": {},
   "outputs": [],
   "source": [
    "f=open('new.txt')"
   ]
  },
  {
   "cell_type": "code",
   "execution_count": 18,
   "metadata": {},
   "outputs": [
    {
     "data": {
      "text/plain": [
       "['I love horror movies.',\n",
       " 'Lights out is a horror movie.',\n",
       " 'I love mangoes.',\n",
       " 'I love romantic movies.',\n",
       " 'Music is my passion.',\n",
       " 'One should never left their passion and always love movies.']"
      ]
     },
     "execution_count": 18,
     "metadata": {},
     "output_type": "execute_result"
    }
   ],
   "source": [
    "a=sent_tokenize(f.read())\n",
    "a"
   ]
  },
  {
   "cell_type": "code",
   "execution_count": 19,
   "metadata": {},
   "outputs": [
    {
     "data": {
      "text/plain": [
       "[['I', 'love', 'horror', 'movies', '.'],\n",
       " ['Lights', 'out', 'is', 'a', 'horror', 'movie', '.'],\n",
       " ['I', 'love', 'mangoes', '.'],\n",
       " ['I', 'love', 'romantic', 'movies', '.'],\n",
       " ['Music', 'is', 'my', 'passion', '.'],\n",
       " ['One',\n",
       "  'should',\n",
       "  'never',\n",
       "  'left',\n",
       "  'their',\n",
       "  'passion',\n",
       "  'and',\n",
       "  'always',\n",
       "  'love',\n",
       "  'movies',\n",
       "  '.']]"
      ]
     },
     "execution_count": 19,
     "metadata": {},
     "output_type": "execute_result"
    }
   ],
   "source": [
    "stop_words = list(stopwords.words('english'))\n",
    "punc = '''!()-[]{};:'\"\\, <>./?@#$%^&*_~'''\n",
    "s=[(word_tokenize(a[i])) for i in range(len(a))]\n",
    "s\n"
   ]
  },
  {
   "cell_type": "code",
   "execution_count": 20,
   "metadata": {},
   "outputs": [
    {
     "data": {
      "text/plain": [
       "[{'horror', 'i', 'love', 'movi'},\n",
       " {'horror', 'light', 'movi'},\n",
       " {'i', 'love', 'mango'},\n",
       " {'i', 'love', 'movi', 'romant'},\n",
       " {'music', 'passion'},\n",
       " {'alway', 'left', 'love', 'movi', 'never', 'one', 'passion'}]"
      ]
     },
     "execution_count": 20,
     "metadata": {},
     "output_type": "execute_result"
    }
   ],
   "source": [
    "from nltk.stem import PorterStemmer\n",
    "ps=PorterStemmer()\n",
    "\n",
    "outer_1=[]\n",
    "\n",
    "for i in range(len(s)):\n",
    "    inner_1=[]\n",
    "    for j in range(len(s[i])):\n",
    "        if s[i][j] not in (punc or stop_words):\n",
    "            s[i][j]=ps.stem(s[i][j])\n",
    "            if s[i][j] not in stop_words:\n",
    "                inner_1.append(s[i][j].lower())\n",
    "    outer_1.append(set(inner_1))\n",
    "    \n",
    "outer_1\n",
    "            "
   ]
  },
  {
   "cell_type": "code",
   "execution_count": 21,
   "metadata": {},
   "outputs": [],
   "source": [
    "rvector=outer_1[0]\n",
    "for i in range(1,len(s)):\n",
    "    rvector=rvector.union(outer_1[i])"
   ]
  },
  {
   "cell_type": "code",
   "execution_count": 22,
   "metadata": {},
   "outputs": [
    {
     "data": {
      "text/plain": [
       "{'alway',\n",
       " 'horror',\n",
       " 'i',\n",
       " 'left',\n",
       " 'light',\n",
       " 'love',\n",
       " 'mango',\n",
       " 'movi',\n",
       " 'music',\n",
       " 'never',\n",
       " 'one',\n",
       " 'passion',\n",
       " 'romant'}"
      ]
     },
     "execution_count": 22,
     "metadata": {},
     "output_type": "execute_result"
    }
   ],
   "source": [
    "rvector\n"
   ]
  },
  {
   "cell_type": "code",
   "execution_count": 23,
   "metadata": {},
   "outputs": [
    {
     "name": "stdout",
     "output_type": "stream",
     "text": [
      "[[0, 0, 1, 0, 1, 0, 0, 0, 1, 0, 1, 0, 0], [0, 0, 1, 0, 0, 0, 0, 0, 1, 0, 0, 1, 0], [0, 0, 0, 1, 1, 0, 0, 0, 0, 0, 1, 0, 0], [0, 0, 0, 0, 1, 0, 0, 0, 1, 0, 1, 0, 1], [0, 1, 0, 0, 0, 0, 0, 0, 0, 1, 0, 0, 0], [1, 0, 0, 0, 0, 1, 1, 1, 1, 1, 1, 0, 0]]\n"
     ]
    }
   ],
   "source": [
    "\n",
    "outer=[]\n",
    "for i in range(len(outer_1)):\n",
    "    inner=[]\n",
    "    for w in rvector:        \n",
    "        if w in outer_1[i]:\n",
    "            inner.append(1)           \n",
    "        else:\n",
    "            inner.append(0)\n",
    "           \n",
    "            \n",
    "    outer.append(inner)\n",
    "print(outer)"
   ]
  },
  {
   "cell_type": "code",
   "execution_count": 24,
   "metadata": {},
   "outputs": [
    {
     "name": "stdout",
     "output_type": "stream",
     "text": [
      "i love comdy\n",
      "['i', 'love', 'comdi']\n",
      "[0, 0, 0, 0, 1, 0, 0, 0, 0, 0, 1, 0, 0]\n"
     ]
    }
   ],
   "source": [
    "check=input()\n",
    "check=(word_tokenize(check))\n",
    "check=[ps.stem(check[i]).lower() for i in range(len(check))]\n",
    "print(check)\n",
    "\n",
    "check1=[]\n",
    "for w in rvector: \n",
    "    if w in check: check1.append(1) # create a vector \n",
    "    else:check1.append(0)\n",
    "print(check1)\n",
    "\n"
   ]
  },
  {
   "cell_type": "code",
   "execution_count": 25,
   "metadata": {},
   "outputs": [],
   "source": [
    "\n",
    "\n",
    "ds=[]\n",
    "\n",
    "for j in range(len(outer)):\n",
    "    c=0\n",
    "    for i in range(len(rvector)): \n",
    "        \n",
    "        c+= check1[i]*outer[j][i] \n",
    "    cosine = c / float((sum(check1)*sum(outer[j]))**0.5)\n",
    "    ds.append(cosine)\n",
    "# for i in range(len(outer)):\n",
    "#     ds.append(distance.cosine(check1,outer[i]))\n",
    "\n"
   ]
  },
  {
   "cell_type": "code",
   "execution_count": 26,
   "metadata": {},
   "outputs": [
    {
     "data": {
      "text/plain": [
       "[0.7071067811865475,\n",
       " 0.0,\n",
       " 0.8164965809277261,\n",
       " 0.7071067811865475,\n",
       " 0.0,\n",
       " 0.2672612419124244]"
      ]
     },
     "execution_count": 26,
     "metadata": {},
     "output_type": "execute_result"
    }
   ],
   "source": [
    "ds"
   ]
  },
  {
   "cell_type": "code",
   "execution_count": 27,
   "metadata": {},
   "outputs": [],
   "source": [
    "def maximum_list(l):\n",
    "    maximum = max(l)\n",
    "    array=[i for i in range(len(l)) if l[i]==maximum ]\n",
    "    \n",
    "    return array\n",
    "    "
   ]
  },
  {
   "cell_type": "code",
   "execution_count": 28,
   "metadata": {},
   "outputs": [
    {
     "name": "stdout",
     "output_type": "stream",
     "text": [
      "I love mangoes.\n"
     ]
    }
   ],
   "source": [
    "b=maximum_list(ds)\n",
    "for i in range(len(b)):    \n",
    "    print(a[b[i]])"
   ]
  },
  {
   "cell_type": "code",
   "execution_count": null,
   "metadata": {},
   "outputs": [],
   "source": []
  }
 ],
 "metadata": {
  "kernelspec": {
   "display_name": "Python 3",
   "language": "python",
   "name": "python3"
  },
  "language_info": {
   "codemirror_mode": {
    "name": "ipython",
    "version": 3
   },
   "file_extension": ".py",
   "mimetype": "text/x-python",
   "name": "python",
   "nbconvert_exporter": "python",
   "pygments_lexer": "ipython3",
   "version": "3.6.5"
  }
 },
 "nbformat": 4,
 "nbformat_minor": 2
}
