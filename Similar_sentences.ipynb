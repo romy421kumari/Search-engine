{
 "cells": [
  {
   "cell_type": "markdown",
   "metadata": {},
   "source": [
    "## similar sentence like agglomerative clustering"
   ]
  },
  {
   "cell_type": "code",
   "execution_count": 1,
   "metadata": {},
   "outputs": [],
   "source": [
    "from nltk.corpus import stopwords \n",
    "from nltk.tokenize import word_tokenize ,sent_tokenize"
   ]
  },
  {
   "cell_type": "code",
   "execution_count": 2,
   "metadata": {},
   "outputs": [],
   "source": [
    "# https://docs.scipy.org/doc/scipy/reference/generated/scipy.spatial.distance.canberra.html#scipy.spatial.distance.canberra"
   ]
  },
  {
   "cell_type": "code",
   "execution_count": 3,
   "metadata": {},
   "outputs": [
    {
     "name": "stdout",
     "output_type": "stream",
     "text": [
      "Overwriting new.txt\n"
     ]
    }
   ],
   "source": [
    "%%writefile new.txt\n",
    "I love horror movies.\n",
    "Lights out is a horror movie.\n",
    "I love mangoes.\n",
    "I love romantic movies."
   ]
  },
  {
   "cell_type": "code",
   "execution_count": 4,
   "metadata": {},
   "outputs": [],
   "source": [
    "f=open('new.txt')"
   ]
  },
  {
   "cell_type": "code",
   "execution_count": 5,
   "metadata": {},
   "outputs": [
    {
     "data": {
      "text/plain": [
       "['I love horror movies.',\n",
       " 'Lights out is a horror movie.',\n",
       " 'I love mangoes.',\n",
       " 'I love romantic movies.']"
      ]
     },
     "execution_count": 5,
     "metadata": {},
     "output_type": "execute_result"
    }
   ],
   "source": [
    "a=sent_tokenize(f.read())\n",
    "a"
   ]
  },
  {
   "cell_type": "code",
   "execution_count": 6,
   "metadata": {},
   "outputs": [],
   "source": [
    "s=[set(word_tokenize(a[i])) for i in range(len(a))]"
   ]
  },
  {
   "cell_type": "code",
   "execution_count": 7,
   "metadata": {},
   "outputs": [
    {
     "data": {
      "text/plain": [
       "[{'.', 'I', 'horror', 'love', 'movies'},\n",
       " {'.', 'Lights', 'a', 'horror', 'is', 'movie', 'out'},\n",
       " {'.', 'I', 'love', 'mangoes'},\n",
       " {'.', 'I', 'love', 'movies', 'romantic'}]"
      ]
     },
     "execution_count": 7,
     "metadata": {},
     "output_type": "execute_result"
    }
   ],
   "source": [
    "s"
   ]
  },
  {
   "cell_type": "code",
   "execution_count": 8,
   "metadata": {},
   "outputs": [],
   "source": [
    "rvector=s[0]\n",
    "for i in range(1,len(s)):\n",
    "    rvector=rvector.union(s[i])"
   ]
  },
  {
   "cell_type": "code",
   "execution_count": 9,
   "metadata": {},
   "outputs": [
    {
     "data": {
      "text/plain": [
       "{'.',\n",
       " 'I',\n",
       " 'Lights',\n",
       " 'a',\n",
       " 'horror',\n",
       " 'is',\n",
       " 'love',\n",
       " 'mangoes',\n",
       " 'movie',\n",
       " 'movies',\n",
       " 'out',\n",
       " 'romantic'}"
      ]
     },
     "execution_count": 9,
     "metadata": {},
     "output_type": "execute_result"
    }
   ],
   "source": [
    "rvector\n"
   ]
  },
  {
   "cell_type": "code",
   "execution_count": 10,
   "metadata": {},
   "outputs": [
    {
     "name": "stdout",
     "output_type": "stream",
     "text": [
      "[[0, 0, 1, 0, 1, 1, 0, 1, 0, 0, 0, 1], [1, 1, 0, 1, 0, 1, 1, 0, 0, 0, 1, 1], [0, 0, 1, 0, 1, 1, 0, 0, 1, 0, 0, 0], [0, 0, 1, 0, 1, 1, 0, 1, 0, 1, 0, 0]]\n"
     ]
    }
   ],
   "source": [
    "\n",
    "outer=[]\n",
    "for i in range(len(s)):\n",
    "    inner=[]\n",
    "    for w in rvector:        \n",
    "        if w in s[i]:\n",
    "            inner.append(1)           \n",
    "        else:\n",
    "            inner.append(0)\n",
    "           \n",
    "            \n",
    "    outer.append(inner)\n",
    "print(outer)"
   ]
  },
  {
   "cell_type": "code",
   "execution_count": 11,
   "metadata": {},
   "outputs": [
    {
     "name": "stdout",
     "output_type": "stream",
     "text": [
      " horror movies are best.\n",
      "[0, 0, 0, 0, 0, 1, 0, 1, 0, 0, 0, 1]\n"
     ]
    }
   ],
   "source": [
    "check=input()\n",
    "check=set(word_tokenize(check))\n",
    "check1=[]\n",
    "for w in rvector: \n",
    "    if w in check: check1.append(1) # create a vector \n",
    "    else:check1.append(0)\n",
    "print(check1)\n",
    "\n"
   ]
  },
  {
   "cell_type": "code",
   "execution_count": 12,
   "metadata": {},
   "outputs": [],
   "source": [
    "\n",
    "\n",
    "ds=[]\n",
    "\n",
    "for j in range(len(outer)):\n",
    "    c=0\n",
    "    for i in range(len(rvector)): \n",
    "        \n",
    "        c+= check1[i]*outer[j][i] \n",
    "    cosine = c / float((sum(check1)*sum(outer[j]))**0.5)\n",
    "    ds.append(cosine)\n",
    "# for i in range(len(outer)):\n",
    "#     ds.append(distance.cosine(check1,outer[i]))\n",
    "\n"
   ]
  },
  {
   "cell_type": "code",
   "execution_count": 13,
   "metadata": {},
   "outputs": [
    {
     "data": {
      "text/plain": [
       "[0.7745966692414834,\n",
       " 0.4364357804719848,\n",
       " 0.2886751345948129,\n",
       " 0.5163977794943222]"
      ]
     },
     "execution_count": 13,
     "metadata": {},
     "output_type": "execute_result"
    }
   ],
   "source": [
    "ds"
   ]
  },
  {
   "cell_type": "code",
   "execution_count": 14,
   "metadata": {},
   "outputs": [],
   "source": [
    "def maximum_list(l):\n",
    "    maximum = max(l)\n",
    "    array=[i for i in range(len(l)) if l[i]==maximum ]\n",
    "    \n",
    "    return array\n",
    "    "
   ]
  },
  {
   "cell_type": "code",
   "execution_count": 15,
   "metadata": {},
   "outputs": [
    {
     "name": "stdout",
     "output_type": "stream",
     "text": [
      "I love horror movies.\n"
     ]
    }
   ],
   "source": [
    "b=maximum_list(ds)\n",
    "for i in range(len(b)):\n",
    "    \n",
    "    print(a[b[i]])"
   ]
  }
 ],
 "metadata": {
  "kernelspec": {
   "display_name": "Python 3",
   "language": "python",
   "name": "python3"
  },
  "language_info": {
   "codemirror_mode": {
    "name": "ipython",
    "version": 3
   },
   "file_extension": ".py",
   "mimetype": "text/x-python",
   "name": "python",
   "nbconvert_exporter": "python",
   "pygments_lexer": "ipython3",
   "version": "3.6.5"
  }
 },
 "nbformat": 4,
 "nbformat_minor": 2
}
