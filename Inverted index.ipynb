{
 "cells": [
  {
   "cell_type": "markdown",
   "metadata": {},
   "source": [
    "# Read file"
   ]
  },
  {
   "cell_type": "code",
   "execution_count": 1,
   "metadata": {},
   "outputs": [
    {
     "name": "stdout",
     "output_type": "stream",
     "text": [
      "Overwriting romy.txt\n"
     ]
    }
   ],
   "source": [
    "%%writefile romy.txt\n",
    "First line is first and second is also first.\n",
    "Second line is third and third is given below.\n",
    "Below is the fourth line.\n",
    "Fourth line is this only.\n",
    "Only fifth one is correct.\n",
    "Correct and first.\n"
   ]
  },
  {
   "cell_type": "code",
   "execution_count": 2,
   "metadata": {},
   "outputs": [
    {
     "name": "stdout",
     "output_type": "stream",
     "text": [
      "36\n",
      "Number of lines in file is:  6\n"
     ]
    },
    {
     "data": {
      "text/plain": [
       "['First line is first and second is also first.\\n',\n",
       " 'Second line is third and third is given below.\\n',\n",
       " 'Below is the fourth line.\\n',\n",
       " 'Fourth line is this only.\\n',\n",
       " 'Only fifth one is correct.\\n',\n",
       " 'Correct and first.']"
      ]
     },
     "execution_count": 2,
     "metadata": {},
     "output_type": "execute_result"
    }
   ],
   "source": [
    "file=open('romy.txt', encoding='utf8')\n",
    "read=file.read()\n",
    "file.seek(0)\n",
    "read\n",
    "word=len(read.split())\n",
    "print(word)\n",
    "\n",
    "line=1\n",
    "for word in read:\n",
    "    if word=='\\n':\n",
    "        line+=1\n",
    "print(\"Number of lines in file is: \",line)\n",
    "\n",
    "\n",
    "\n",
    "array=[]\n",
    "for i in range(line):\n",
    "    array.append(file.readline())\n",
    "    \n",
    "array"
   ]
  },
  {
   "cell_type": "markdown",
   "metadata": {},
   "source": [
    "# Remove punctuation"
   ]
  },
  {
   "cell_type": "code",
   "execution_count": 3,
   "metadata": {},
   "outputs": [
    {
     "data": {
      "text/plain": [
       "'first line is first and second is also first \\nsecond line is third and third is given below \\nbelow is the fourth line \\nfourth line is this only \\nonly fifth one is correct \\ncorrect and first '"
      ]
     },
     "execution_count": 3,
     "metadata": {},
     "output_type": "execute_result"
    }
   ],
   "source": [
    "punc = '''!()-[]{};:'\"\\, <>./?@#$%^&*_~'''\n",
    "for ele in read:  \n",
    "    if ele in punc:  \n",
    "        read = read.replace(ele, \" \")  \n",
    "        \n",
    "\n",
    "read\n",
    "read=read.lower()\n",
    "read"
   ]
  },
  {
   "cell_type": "markdown",
   "metadata": {},
   "source": [
    "# Remove stopwords"
   ]
  },
  {
   "cell_type": "code",
   "execution_count": 4,
   "metadata": {},
   "outputs": [
    {
     "name": "stdout",
     "output_type": "stream",
     "text": [
      "[nltk_data] Downloading package stopwords to\n",
      "[nltk_data]     C:\\Users\\rameshwaram\\AppData\\Roaming\\nltk_data...\n",
      "[nltk_data]   Package stopwords is already up-to-date!\n",
      "['first', 'line', 'first', 'second', 'first', 'second', 'line', 'third', 'third', 'given', 'fourth', 'line', 'fourth', 'line', 'fifth', 'correct', 'correct', 'first']\n"
     ]
    }
   ],
   "source": [
    "import nltk\n",
    "from nltk.corpus import stopwords\n",
    "nltk.download('stopwords')\n",
    "from nltk.tokenize import word_tokenize\n",
    "\n",
    "\n",
    "text_tokens = word_tokenize(read)\n",
    "\n",
    "tokens_without_sw = [word for word in text_tokens if not word in stopwords.words()]\n",
    "\n",
    "print(tokens_without_sw)"
   ]
  },
  {
   "cell_type": "code",
   "execution_count": 5,
   "metadata": {},
   "outputs": [
    {
     "data": {
      "text/plain": [
       "18"
      ]
     },
     "execution_count": 5,
     "metadata": {},
     "output_type": "execute_result"
    }
   ],
   "source": [
    "len(tokens_without_sw)"
   ]
  },
  {
   "cell_type": "markdown",
   "metadata": {},
   "source": [
    "# Remove digits "
   ]
  },
  {
   "cell_type": "code",
   "execution_count": 6,
   "metadata": {},
   "outputs": [
    {
     "name": "stdout",
     "output_type": "stream",
     "text": [
      "18\n",
      "['first', 'line', 'first', 'second', 'first', 'second', 'line', 'third', 'third', 'given', 'fourth', 'line', 'fourth', 'line', 'fifth', 'correct', 'correct', 'first']\n"
     ]
    }
   ],
   "source": [
    "tokens=[]\n",
    "for i in range(len(tokens_without_sw)):\n",
    "               if tokens_without_sw[i].isdigit()==False:\n",
    "                   tokens.append(tokens_without_sw[i])\n",
    "print(len(tokens))\n",
    "print(tokens)\n",
    "\n",
    "                   "
   ]
  },
  {
   "cell_type": "markdown",
   "metadata": {},
   "source": [
    "# Stemming"
   ]
  },
  {
   "cell_type": "code",
   "execution_count": 7,
   "metadata": {},
   "outputs": [
    {
     "name": "stdout",
     "output_type": "stream",
     "text": [
      "['first', 'line', 'first', 'second', 'first', 'second', 'line', 'third', 'third', 'given', 'fourth', 'line', 'fourth', 'line', 'fifth', 'correct', 'correct', 'first']\n"
     ]
    }
   ],
   "source": [
    "from nltk.stem import PorterStemmer\n",
    "ps=PorterStemmer()\n",
    "for i in range(len(tokens)):\n",
    "    tokens[i]=ps.stem(tokens[i])\n",
    "    \n",
    "print(tokens)"
   ]
  },
  {
   "cell_type": "markdown",
   "metadata": {},
   "source": [
    "# Create set to avoid multiple entries"
   ]
  },
  {
   "cell_type": "code",
   "execution_count": 8,
   "metadata": {},
   "outputs": [
    {
     "data": {
      "text/plain": [
       "{'correct', 'fifth', 'first', 'fourth', 'given', 'line', 'second', 'third'}"
      ]
     },
     "execution_count": 8,
     "metadata": {},
     "output_type": "execute_result"
    }
   ],
   "source": [
    "newset=set(tokens)\n",
    "newset"
   ]
  },
  {
   "cell_type": "markdown",
   "metadata": {},
   "source": [
    "# Create inverted index"
   ]
  },
  {
   "cell_type": "code",
   "execution_count": 9,
   "metadata": {},
   "outputs": [
    {
     "data": {
      "text/plain": [
       "{'first': [1, 6],\n",
       " 'line': [1, 2, 3, 4],\n",
       " 'second': [1, 2],\n",
       " 'third': [2],\n",
       " 'given': [2],\n",
       " 'fourth': [3, 4],\n",
       " 'fifth': [5],\n",
       " 'correct': [5, 6]}"
      ]
     },
     "execution_count": 9,
     "metadata": {},
     "output_type": "execute_result"
    }
   ],
   "source": [
    "dt={}\n",
    "\n",
    "for i in range(line):\n",
    "    check=array[i].lower()\n",
    "    for item in newset:\n",
    "        \n",
    "        if item in check:\n",
    "            if item not in dt:\n",
    "                dt[item]=[]\n",
    "                \n",
    "            if item in dt:\n",
    "                dt[item].append(i+1)\n",
    "                \n",
    "dt\n",
    "\n"
   ]
  },
  {
   "cell_type": "markdown",
   "metadata": {},
   "source": [
    "# Shunting Yard Algorithm"
   ]
  },
  {
   "cell_type": "code",
   "execution_count": 10,
   "metadata": {},
   "outputs": [],
   "source": [
    "def setor(a,b):\n",
    "    myset1=set(a)\n",
    "    myset2=set(b)\n",
    "    myset3= myset1|myset2\n",
    "    return myset3\n",
    "\n",
    "def setand(a,b):\n",
    "    myset1=set(a)\n",
    "    myset2=set(b)\n",
    "    myset3= myset1&myset2\n",
    "    return myset3\n",
    "\n",
    "def precedence(op): \n",
    "      \n",
    "    if op == '&' or op == '|': \n",
    "        return 2\n",
    "    if op == '!': \n",
    "        return 1\n",
    "    return 0\n",
    "\n",
    "def applyOp(a,b,op):\n",
    "    if op=='&':\n",
    "        return setand(a,b)\n",
    "    if op=='|':\n",
    "        return setor(a,b)\n",
    "    if op=='!':\n",
    "        return setnot(a,b)\n",
    "    \n",
    "def setnot(a,b):\n",
    "    myset1=set(a)\n",
    "    myset2=set(b)\n",
    "    myset3= myset1-myset2\n",
    "    return myset3\n",
    "    \n",
    "    \n",
    "operator=['|', '&','(',')','!']\n",
    "def evaluate(tokens): \n",
    "      \n",
    "    values = []     \n",
    "    ops = [] \n",
    "    i = 0\n",
    "      \n",
    "    while i < len(tokens):           \n",
    "       \n",
    "        if tokens[i] == ' ': \n",
    "            i += 1\n",
    "            continue          \n",
    "      \n",
    "        elif tokens[i] == '(': \n",
    "            ops.append(tokens[i]) \n",
    "            \n",
    "        elif tokens[i] not in operator : \n",
    "                      \n",
    "            values.append(dt[tokens[i]]) \n",
    "        elif tokens[i] == ')': \n",
    "          \n",
    "            while len(ops) != 0 and ops[-1] != '(': \n",
    "              \n",
    "                val2 = values.pop() \n",
    "                val1 = values.pop() \n",
    "                op = ops.pop() \n",
    "                  \n",
    "                values.append(applyOp(val1, val2, op)) \n",
    "              \n",
    "            \n",
    "            ops.pop() \n",
    "            \n",
    "            \n",
    "        else: \n",
    "          \n",
    "           \n",
    "            while (len(ops) != 0 and\n",
    "                precedence(ops[-1]) >= precedence(tokens[i])): \n",
    "                          \n",
    "                val2 = values.pop() \n",
    "                val1 = values.pop() \n",
    "                op = ops.pop() \n",
    "                  \n",
    "                values.append(applyOp(val1, val2, op)) \n",
    "              \n",
    "           \n",
    "            ops.append(tokens[i]) \n",
    "          \n",
    "        i += 1\n",
    "    while len(ops) != 0: \n",
    "          \n",
    "        val2 = values.pop() \n",
    "        val1 = values.pop() \n",
    "        op = ops.pop() \n",
    "                  \n",
    "        values.append(applyOp(val1, val2, op)) \n",
    "      \n",
    "    \n",
    "    return values[0] \n",
    "          \n",
    "    "
   ]
  },
  {
   "cell_type": "code",
   "execution_count": 12,
   "metadata": {},
   "outputs": [
    {
     "name": "stderr",
     "output_type": "stream",
     "text": [
      "[18/Jun/2020:02:11:00] ENGINE Listening for SIGTERM.\n",
      "[18/Jun/2020:02:11:00] ENGINE Bus STARTING\n",
      "[18/Jun/2020:02:11:00] ENGINE Set handler for console events.\n",
      "CherryPy Checker:\n",
      "The Application mounted at '' has an empty config.\n",
      "\n",
      "[18/Jun/2020:02:11:00] ENGINE Started monitor thread 'Autoreloader'.\n",
      "[18/Jun/2020:02:11:00] ENGINE Serving on http://127.0.0.1:8089\n",
      "[18/Jun/2020:02:11:00] ENGINE Bus STARTED\n"
     ]
    },
    {
     "name": "stdout",
     "output_type": "stream",
     "text": [
      "127.0.0.1 - - [18/Jun/2020:02:11:03] \"GET / HTTP/1.1\" 200 1218 \"http://localhost:8888/notebooks/Inverted%20index.ipynb\" \"Mozilla/5.0 (Windows NT 10.0; Win64; x64) AppleWebKit/537.36 (KHTML, like Gecko) Chrome/83.0.4103.97 Safari/537.36\"\n",
      "127.0.0.1 - - [18/Jun/2020:02:11:07] \"GET /store?search=%28first+%7C+second%29 HTTP/1.1\" 200 9 \"http://127.0.0.1:8089/\" \"Mozilla/5.0 (Windows NT 10.0; Win64; x64) AppleWebKit/537.36 (KHTML, like Gecko) Chrome/83.0.4103.97 Safari/537.36\"\n"
     ]
    },
    {
     "name": "stderr",
     "output_type": "stream",
     "text": [
      "[18/Jun/2020:02:11:26] ENGINE Bus STOPPING\n",
      "[18/Jun/2020:02:11:26] ENGINE HTTP Server cherrypy._cpwsgi_server.CPWSGIServer(('127.0.0.1', 8089)) shut down\n",
      "[18/Jun/2020:02:11:26] ENGINE Stopped thread 'Autoreloader'.\n",
      "[18/Jun/2020:02:11:26] ENGINE Removed handler for console events.\n",
      "[18/Jun/2020:02:11:26] ENGINE Bus STOPPED\n",
      "[18/Jun/2020:02:11:26] ENGINE Bus EXITING\n",
      "[18/Jun/2020:02:11:26] ENGINE Waiting for child threads to terminate...\n",
      "[18/Jun/2020:02:11:26] ENGINE Bus EXITED\n"
     ]
    },
    {
     "name": "stdout",
     "output_type": "stream",
     "text": [
      "127.0.0.1 - - [18/Jun/2020:02:11:26] \"GET /shutdown HTTP/1.1\" 200 - \"http://127.0.0.1:8089/\" \"Mozilla/5.0 (Windows NT 10.0; Win64; x64) AppleWebKit/537.36 (KHTML, like Gecko) Chrome/83.0.4103.97 Safari/537.36\"\n"
     ]
    },
    {
     "name": "stderr",
     "output_type": "stream",
     "text": [
      "[18/Jun/2020:02:11:26] ENGINE Waiting for thread CP Server Thread-26.\n"
     ]
    }
   ],
   "source": [
    "import random\n",
    "import string\n",
    "import cherrypy\n",
    "import nltk\n",
    "import time\n",
    "from nltk.tokenize import word_tokenize\n",
    "\n",
    "from cherrypy import tools\n",
    "\n",
    "\n",
    "class Root(object):\n",
    "   \n",
    "    @cherrypy.expose\n",
    "    def index(self):\n",
    "        return \"\"\"<html>\n",
    "<head>\n",
    "  <title>Search</title>\n",
    "  <style >\n",
    "    .container{\n",
    "      margin-left: 260px;\n",
    "      margin-top: 20%;\n",
    "      width: 700px;\n",
    "      height: 50px;\n",
    "      background-color: lightblue;\n",
    "      border-top-left-radius: 25px;\n",
    "      border-bottom-left-radius: 25px;\n",
    "      border-top-right-radius: 25px;\n",
    "      border-bottom-right-radius: 25px;\n",
    "      }\n",
    "    .container div{\n",
    "      height: 85%;\n",
    "      width: 90%;\n",
    "      margin-left: 5%;\n",
    "      border-style: hidden;\n",
    "    }\n",
    "    .container div input{\n",
    "      height: 100%;\n",
    "      width: 100%;\n",
    "      border-style: hidden;\n",
    "      margin-top: 5px;\n",
    "      background-color: transparent;\n",
    "      font-size: 30px;\n",
    "      outline: none;\n",
    "    }\n",
    "    #submit{\n",
    "      margin-left: 45%;\n",
    "      margin-top: 10px;\n",
    "      height: 40px;\n",
    "      width: 100px;\n",
    "    }\n",
    "  </style>\n",
    "</head>\n",
    "<body>\n",
    "  \n",
    "\n",
    "  <div class=\"container\">\n",
    "    <div>\n",
    "      <form action=\"store\" id=\"form\" onsubmit=\"return false; method=\"GET\">\n",
    "         <input id=\"query\" type=\"text\" name=\"search\" placeholder=\"Enter the query.............................................\"></div>\n",
    "  </div><span>\n",
    "   \n",
    "    <input id=\"submit\" type=\"submit\" onclick=\"othername();\" /></span>\n",
    "</form>\n",
    "<a id=\"shutdown\"; href=\"./shutdown\">Shutdown Server</a>\n",
    "\n",
    "</body>\n",
    "</html>\"\"\"\n",
    "    \n",
    "    \n",
    "    def store(self, search):\n",
    "        \"\"\"Check the username & password\"\"\"\n",
    "        tokens=word_tokenize(search)\n",
    "        numb=str(evaluate(tokens))\n",
    "       \n",
    "        return numb\n",
    "    \n",
    "    \n",
    "    @cherrypy.expose\n",
    "\n",
    "    def shutdown(self):\n",
    "        cherrypy.engine.exit()\n",
    "    \n",
    "    \n",
    "    store.exposed = True\n",
    "    \n",
    "    @cherrypy.expose\n",
    "\n",
    "    def shutdown(self):  \n",
    "        cherrypy.engine.exit()\n",
    "        \n",
    "\n",
    "if __name__==\"__main__\":\n",
    "    cherrypy.config.update({'server.socket_port': 8089})\n",
    "    \n",
    "    cherrypy.quickstart(Root())\n",
    "   \n",
    "   \n",
    "    \n",
    "  "
   ]
  }
 ],
 "metadata": {
  "kernelspec": {
   "display_name": "Python 3",
   "language": "python",
   "name": "python3"
  },
  "language_info": {
   "codemirror_mode": {
    "name": "ipython",
    "version": 3
   },
   "file_extension": ".py",
   "mimetype": "text/x-python",
   "name": "python",
   "nbconvert_exporter": "python",
   "pygments_lexer": "ipython3",
   "version": "3.6.5"
  }
 },
 "nbformat": 4,
 "nbformat_minor": 2
}
